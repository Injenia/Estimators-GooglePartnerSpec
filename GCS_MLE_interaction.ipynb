{
 "cells": [
  {
   "cell_type": "code",
   "execution_count": 1,
   "metadata": {},
   "outputs": [
    {
     "name": "stderr",
     "output_type": "stream",
     "text": [
      "/usr/local/lib/python2.7/dist-packages/h5py/__init__.py:36: FutureWarning: Conversion of the second argument of issubdtype from `float` to `np.floating` is deprecated. In future, it will be treated as `np.float64 == np.dtype(float).type`.\n",
      "  from ._conv import register_converters as _register_converters\n"
     ]
    }
   ],
   "source": [
    "from oauth2client.client import GoogleCredentials\n",
    "#import googleapiclient\n",
    "from googleapiclient import discovery\n",
    "import json\n",
    "import os\n",
    "import pandas as pd\n",
    "import base64\n",
    "import tensorflow as tf\n",
    "from tensorflow.python.lib.io.file_io import FileIO as open_file"
   ]
  },
  {
   "cell_type": "markdown",
   "metadata": {},
   "source": [
    "# Simple test"
   ]
  },
  {
   "cell_type": "code",
   "execution_count": 2,
   "metadata": {},
   "outputs": [],
   "source": [
    "MODEL_DIR=\"gs://ml-research-injenia/estimators/trainings/linear-classifier/test01\"\n",
    "#with open_file(os.path.join(MODEL_DIR,\"data\",\"latest_model.txt\"), \"r\") as f:\n",
    "#    MODEL_PATH=f.read()\n",
    "#MODEL_PATH"
   ]
  },
  {
   "cell_type": "code",
   "execution_count": 3,
   "metadata": {},
   "outputs": [],
   "source": [
    "with open_file(os.path.join(MODEL_DIR,\"data\",\"dataset_fields.json\"), \"r\") as f:\n",
    "    inputs_definition=json.load(f)\n",
    "    \n",
    "COLUMNS=inputs_definition[\"fields\"][\"columns\"]\n",
    "FIELD_TYPES=inputs_definition[\"fields\"][\"types\"]\n",
    "FIELD_CATEGORIES=inputs_definition[\"fields\"][\"categories\"]\n",
    "LABELS=inputs_definition[\"label\"][\"categories\"]"
   ]
  },
  {
   "cell_type": "code",
   "execution_count": 4,
   "metadata": {},
   "outputs": [],
   "source": [
    "with open_file(os.path.join(MODEL_DIR,\"data\",\"actual_dataset.csv\"), \"r\") as f:\n",
    "    df = pd.read_csv(f)\n",
    "df.columns=[x.strip().replace(\" \", \"_\").replace(\"_-_\", \"_\") for x in df.columns]\n",
    "df = df[df[\"Alignment\"].isin([\"good\",\"bad\",\"neutral\"]) ]\n",
    "#df = df.drop([\"Publisher\"], axis=1)\n",
    "for c in COLUMNS:\n",
    "    if df[c].dtypes.name == 'bool':\n",
    "        df[c]=df[c].map({True: 'TRUE', False: 'FALSE'})"
   ]
  },
  {
   "cell_type": "code",
   "execution_count": 5,
   "metadata": {},
   "outputs": [
    {
     "data": {
      "text/plain": [
       "[{u'we_are_cheating': {'b64': 'Z29vZA==\\n'}}]"
      ]
     },
     "execution_count": 5,
     "metadata": {},
     "output_type": "execute_result"
    }
   ],
   "source": [
    "superman_feats = list(df[df[\"index\"]==\"Superman\"].drop([\"Alignment\"], axis=1).values[0][1:])\n",
    "feature_dict={}\n",
    "\n",
    "feats=superman_feats\n",
    "for i,c in enumerate(COLUMNS):\n",
    "    if FIELD_TYPES[c]==\"string\":\n",
    "        feature_dict[c]={\"b64\":base64.encodestring(feats[i])}\n",
    "    if FIELD_TYPES[c]==\"number\":\n",
    "        feature_dict[c]=feats[i]\n",
    "        \n",
    "#instances=[{\"inputs\":feature_dict}]\n",
    "instances=[feature_dict]\n",
    "instances"
   ]
  },
  {
   "cell_type": "code",
   "execution_count": 6,
   "metadata": {},
   "outputs": [
    {
     "data": {
      "text/plain": [
       "[{'inputs': '\\n\\x1d\\n\\x1b\\n\\x0fwe_are_cheating\\x12\\x08\\n\\x06\\n\\x04good'}]"
      ]
     },
     "execution_count": 6,
     "metadata": {},
     "output_type": "execute_result"
    }
   ],
   "source": [
    "def _float_feature(value):\n",
    "    return tf.train.Feature(float_list=tf.train.FloatList(value=[value]))\n",
    "\n",
    "def _bytes_feature(value):\n",
    "    return tf.train.Feature(bytes_list=tf.train.BytesList(value=[value]))\n",
    "\n",
    "def build_cmle_request(COLUMNS, FIELD_TYPES, feats):    \n",
    "    #COLUMNS=data[\"COLUMNS\"]\n",
    "    #FIELD_TYPES=data[\"FIELD_TYPES\"]\n",
    "    #feats=data[\"features\"]\n",
    "    \n",
    "    feature_dict={}\n",
    "\n",
    "    for i,c in enumerate(COLUMNS):\n",
    "        if FIELD_TYPES[c]==\"string\":\n",
    "            feature_dict[c]=_bytes_feature(value=feats[i].encode())\n",
    "        if FIELD_TYPES[c]==\"number\":\n",
    "            feature_dict[c]=_float_feature(value=feats[i])\n",
    "\n",
    "\n",
    "    example = tf.train.Example(features=tf.train.Features(feature=feature_dict))\n",
    "    serialized = example.SerializeToString()\n",
    "\n",
    "    return {\"inputs\":serialized}\n",
    "    #return serialized\n",
    "\n",
    "instances=[build_cmle_request(COLUMNS, FIELD_TYPES, feats)]\n",
    "instances"
   ]
  },
  {
   "cell_type": "code",
   "execution_count": 7,
   "metadata": {},
   "outputs": [
    {
     "data": {
      "text/plain": [
       "{u'predictions': [{u'classes': [u'bad', u'good', u'neutral'],\n",
       "   u'scores': [0.00018851611821446568,\n",
       "    0.9997323155403137,\n",
       "    7.912010187283158e-05]}]}"
      ]
     },
     "execution_count": 7,
     "metadata": {},
     "output_type": "execute_result"
    }
   ],
   "source": [
    "def execute_request(project,model,version=None,instances=[]):\n",
    "    service = discovery.build('ml', 'v1')\n",
    "    name = 'projects/{}/models/{}'.format(project, model)\n",
    "    if version is not None:\n",
    "        name += '/versions/{}'.format(version)\n",
    "\n",
    "    response = service.projects().predict(\n",
    "        name=name,\n",
    "        body={'instances': instances}\n",
    "    ).execute()\n",
    "\n",
    "    return response\n",
    "\n",
    "resp=execute_request(\"injenia-ricerca\",\"superheroes_dumbest\",\"v1_0_1\",instances)\n",
    "resp"
   ]
  },
  {
   "cell_type": "markdown",
   "metadata": {},
   "source": [
    "# Superheroes set"
   ]
  },
  {
   "cell_type": "code",
   "execution_count": null,
   "metadata": {},
   "outputs": [],
   "source": [
    "PROJECT_NAME=\"injenia-ricerca\"\n",
    "MODEL_VERSION=\"V01\""
   ]
  },
  {
   "cell_type": "code",
   "execution_count": null,
   "metadata": {
    "scrolled": true
   },
   "outputs": [],
   "source": [
    "MODEL_DIR=\"gs://ml-research-injenia/estimators/trainings/linear-classifier/test08\"\n",
    "\n",
    "with open_file(os.path.join(MODEL_DIR,\n",
    "                            \"data\",\"actual_trainset.csv\"), \"r\") as f:\n",
    "    df = pd.read_csv(f)\n",
    "df.columns=[x.strip().replace(\" \", \"_\").replace(\"_-_\", \"_\") for x in df.columns]\n",
    "df = df[df[\"Alignment\"].isin([\"good\",\"bad\",\"neutral\"]) ]\n",
    "#df = df.drop([\"Publisher\"], axis=1)\n",
    "for c in COLUMNS:\n",
    "    if df[c].dtypes.name == 'bool':\n",
    "        df[c]=df[c].map({True: 'TRUE', False: 'FALSE'})\n",
    "\n",
    "with open_file(os.path.join(MODEL_DIR,\n",
    "                            \"data\",\"dataset_fields.json\"), \"r\") as f:\n",
    "    inputs_definition=json.load(f)\n",
    "    \n",
    "COLUMNS=inputs_definition[\"fields\"][\"columns\"]\n",
    "FIELD_TYPES=inputs_definition[\"fields\"][\"types\"]\n",
    "FIELD_CATEGORIES=inputs_definition[\"fields\"][\"categories\"]\n",
    "LABELS=inputs_definition[\"label\"][\"categories\"]\n",
    "\n",
    "\n",
    "superman_feats = list(df[df[\"index\"]==\"Superman\"].drop([\"Alignment\"], axis=1).values[0][1:])\n",
    "\n",
    "instances=[build_cmle_request(COLUMNS, FIELD_TYPES, superman_feats)]"
   ]
  },
  {
   "cell_type": "code",
   "execution_count": null,
   "metadata": {
    "scrolled": true
   },
   "outputs": [],
   "source": [
    "MODEL_NAME=\"superheroes_linear\"\n",
    "resp=execute_request(PROJECT_NAME,MODEL_NAME,MODEL_VERSION,instances)\n",
    "resp"
   ]
  },
  {
   "cell_type": "code",
   "execution_count": null,
   "metadata": {
    "scrolled": true
   },
   "outputs": [],
   "source": [
    "MODEL_NAME=\"superheroes_dnn\"\n",
    "resp=execute_request(PROJECT_NAME,MODEL_NAME,MODEL_VERSION,instances)\n",
    "resp"
   ]
  },
  {
   "cell_type": "markdown",
   "metadata": {},
   "source": [
    "# Kickstarter set"
   ]
  },
  {
   "cell_type": "code",
   "execution_count": null,
   "metadata": {
    "scrolled": true
   },
   "outputs": [],
   "source": [
    "MODEL_DIR=\"gs://ml-research-injenia/estimators/trainings-kickstarter/dnn-classifier/test02\"\n",
    "\n",
    "with open_file(os.path.join(MODEL_DIR,\n",
    "                            \"data\",\"actual_trainset.csv\"), \"r\") as f:\n",
    "    df = pd.read_csv(f)\n",
    "df.columns=[x.strip().replace(\" \", \"_\").replace(\"_-_\", \"_\") for x in df.columns]\n",
    "\n",
    "with open_file(os.path.join(MODEL_DIR,\n",
    "                            \"data\",\"dataset_fields.json\"), \"r\") as f:\n",
    "    inputs_definition=json.load(f)\n",
    "    \n",
    "COLUMNS=inputs_definition[\"fields\"][\"columns\"]\n",
    "FIELD_TYPES=inputs_definition[\"fields\"][\"types\"]\n",
    "FIELD_CATEGORIES=inputs_definition[\"fields\"][\"categories\"]\n",
    "LABELS=inputs_definition[\"label\"][\"categories\"]\n",
    "\n",
    "\n",
    "feats = list(df[df[\"ID\"]==1569410360].drop([\"state\"], axis=1).values[0][1:])\n",
    "\n",
    "instances=[build_cmle_request(COLUMNS, FIELD_TYPES, feats)]"
   ]
  },
  {
   "cell_type": "code",
   "execution_count": null,
   "metadata": {
    "scrolled": true
   },
   "outputs": [],
   "source": [
    "MODEL_NAME=\"kickstarter_linear\"\n",
    "resp=execute_request(PROJECT_NAME,MODEL_NAME,MODEL_VERSION,instances)\n",
    "resp"
   ]
  },
  {
   "cell_type": "code",
   "execution_count": null,
   "metadata": {
    "scrolled": true
   },
   "outputs": [],
   "source": [
    "MODEL_NAME=\"kickstarter_dnn\"\n",
    "resp=execute_request(PROJECT_NAME,MODEL_NAME,MODEL_VERSION,instances)\n",
    "resp"
   ]
  },
  {
   "cell_type": "code",
   "execution_count": null,
   "metadata": {},
   "outputs": [],
   "source": []
  }
 ],
 "metadata": {
  "kernelspec": {
   "display_name": "Python 2",
   "language": "python",
   "name": "python2"
  },
  "language_info": {
   "codemirror_mode": {
    "name": "ipython",
    "version": 2
   },
   "file_extension": ".py",
   "mimetype": "text/x-python",
   "name": "python",
   "nbconvert_exporter": "python",
   "pygments_lexer": "ipython2",
   "version": "2.7.14"
  }
 },
 "nbformat": 4,
 "nbformat_minor": 2
}
